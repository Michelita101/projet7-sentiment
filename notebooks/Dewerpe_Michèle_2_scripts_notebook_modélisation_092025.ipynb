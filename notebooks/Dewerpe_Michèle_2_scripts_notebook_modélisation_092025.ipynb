{
 "cells": [
  {
   "cell_type": "markdown",
   "id": "6601f0ae",
   "metadata": {},
   "source": [
    "# __Exploratory Data Analysis (EDA)__\n",
    "_Projet Analyse de sentiments — Exploration initiale des tweets_\n"
   ]
  },
  {
   "cell_type": "code",
   "execution_count": 1,
   "id": "02ceb109",
   "metadata": {},
   "outputs": [],
   "source": [
    "import sys\n",
    "import os\n",
    "\n",
    "# On ajoute le chemin absolu vers src/\n",
    "sys.path.append(os.path.abspath(\"..\"))\n",
    "\n",
    "import mlflow\n",
    "from src.utils.tracking import log_run\n",
    "\n",
    "\n",
    "# On fixe l'emplacement centralisé des logs MLflow (remonte d'un cran car le notebook est dans /notebooks/)\n",
    "mlflow.set_tracking_uri(\"file:../mlruns\")\n",
    "\n",
    "# On déclare (ou crée si nécessaire) l'expérience\n",
    "mlflow.set_experiment(\"Projet7-Sentiment\")\n",
    "\n",
    "# Exemple de paramètres et métriques fictifs\n",
    "params = {\"C\": 1.0, \"penalty\": \"l2\"}\n",
    "metrics = {\"accuracy\": 0.82, \"f1\": 0.79}\n",
    "\n",
    "# Lancement d’un premier run de test\n",
    "log_run(\"Test-LogisticRegression\", params, metrics)\n",
    "\n"
   ]
  },
  {
   "cell_type": "markdown",
   "id": "afdbcde2",
   "metadata": {},
   "source": [
    "## __Documentation du jeu de données brut__\n",
    "\n",
    "Le fichier brut `training.1600000.processed.noemoticon.csv` contient __6 colonnes__ :  \n",
    "\n",
    "- __0 : sentiment__ — valeur binaire (`0 = négatif`, `4 = positif`)  \n",
    "- __1 : id__ — identifiant unique du tweet  \n",
    "- __2 : date/heure__ — horodatage de la publication  \n",
    "- __3 : query__ — champ lié à la recherche (souvent `\"NO_QUERY\"`)  \n",
    "- __4 : username__ — nom d’utilisateur Twitter  \n",
    "- __5 : text__ — contenu textuel du tweet  \n",
    "\n",
    "### Pipeline appliqué pour générer les données traitées\n",
    "- Lecture du CSV brut avec l’encodage `latin-1`  \n",
    "- Sélection des colonnes __0__ et __5__ → renommage en `label` et `text`  \n",
    "- Filtrage des lignes vides et normalisation minimale du texte  \n",
    "- Sauvegarde du jeu de données nettoyé au format __parquet__ dans `data/processed/tweets.parquet`  \n",
    "\n",
    "Ce pipeline permet de simplifier le dataset pour se concentrer uniquement sur les textes et leurs labels (positif/négatif).\n"
   ]
  },
  {
   "cell_type": "code",
   "execution_count": 2,
   "id": "2c029c72",
   "metadata": {},
   "outputs": [
    {
     "name": "stdout",
     "output_type": "stream",
     "text": [
      "Données brutes (non chargées ici) : ../data/raw/training.1600000.processed.noemoticon.csv\n",
      "Données traitées (chargées)       : ../data/processed/tweets.parquet\n"
     ]
    }
   ],
   "source": [
    "import pandas as pd\n",
    "\n",
    "# Chemins vers les fichiers de données\n",
    "# (non versionnés pour le brut, versionnés pour le traité)\n",
    "SOURCE_RAW = \"../data/raw/training.1600000.processed.noemoticon.csv\"  # fichier brut (non versionné)\n",
    "SOURCE_PROCESSED = \"../data/processed/tweets.parquet\"                 # dérivé utilisé pour l'EDA\n",
    "\n",
    "print(\"Données brutes (non chargées ici) :\", SOURCE_RAW)\n",
    "print(\"Données traitées (chargées)       :\", SOURCE_PROCESSED)\n"
   ]
  },
  {
   "cell_type": "code",
   "execution_count": 3,
   "id": "3bac60b0",
   "metadata": {},
   "outputs": [
    {
     "data": {
      "text/html": [
       "<div>\n",
       "<style scoped>\n",
       "    .dataframe tbody tr th:only-of-type {\n",
       "        vertical-align: middle;\n",
       "    }\n",
       "\n",
       "    .dataframe tbody tr th {\n",
       "        vertical-align: top;\n",
       "    }\n",
       "\n",
       "    .dataframe thead th {\n",
       "        text-align: right;\n",
       "    }\n",
       "</style>\n",
       "<table border=\"1\" class=\"dataframe\">\n",
       "  <thead>\n",
       "    <tr style=\"text-align: right;\">\n",
       "      <th></th>\n",
       "      <th>label</th>\n",
       "      <th>text</th>\n",
       "    </tr>\n",
       "  </thead>\n",
       "  <tbody>\n",
       "    <tr>\n",
       "      <th>0</th>\n",
       "      <td>0</td>\n",
       "      <td>@switchfoot http://twitpic.com/2y1zl - Awww, t...</td>\n",
       "    </tr>\n",
       "    <tr>\n",
       "      <th>1</th>\n",
       "      <td>0</td>\n",
       "      <td>is upset that he can't update his Facebook by ...</td>\n",
       "    </tr>\n",
       "    <tr>\n",
       "      <th>2</th>\n",
       "      <td>0</td>\n",
       "      <td>@Kenichan I dived many times for the ball. Man...</td>\n",
       "    </tr>\n",
       "    <tr>\n",
       "      <th>3</th>\n",
       "      <td>0</td>\n",
       "      <td>my whole body feels itchy and like its on fire</td>\n",
       "    </tr>\n",
       "    <tr>\n",
       "      <th>4</th>\n",
       "      <td>0</td>\n",
       "      <td>@nationwideclass no, it's not behaving at all....</td>\n",
       "    </tr>\n",
       "  </tbody>\n",
       "</table>\n",
       "</div>"
      ],
      "text/plain": [
       "   label                                               text\n",
       "0      0  @switchfoot http://twitpic.com/2y1zl - Awww, t...\n",
       "1      0  is upset that he can't update his Facebook by ...\n",
       "2      0  @Kenichan I dived many times for the ball. Man...\n",
       "3      0    my whole body feels itchy and like its on fire \n",
       "4      0  @nationwideclass no, it's not behaving at all...."
      ]
     },
     "execution_count": 3,
     "metadata": {},
     "output_type": "execute_result"
    }
   ],
   "source": [
    "# Charger le fichier parquet optimisé\n",
    "df = pd.read_parquet(\"../data/processed/tweets.parquet\")\n",
    "\n",
    "# Aperçu des données\n",
    "df.head()\n"
   ]
  },
  {
   "cell_type": "markdown",
   "id": "27158c33",
   "metadata": {},
   "source": [
    "## __Dimensions du dataset__\n"
   ]
  },
  {
   "cell_type": "code",
   "execution_count": 4,
   "id": "06ee15f9",
   "metadata": {},
   "outputs": [
    {
     "data": {
      "text/plain": [
       "(1600000, 2)"
      ]
     },
     "execution_count": 4,
     "metadata": {},
     "output_type": "execute_result"
    }
   ],
   "source": [
    "df.shape\n"
   ]
  },
  {
   "cell_type": "markdown",
   "id": "c8a23b9a",
   "metadata": {},
   "source": [
    "## __Répartition des labels__\n"
   ]
  },
  {
   "cell_type": "code",
   "execution_count": 5,
   "id": "e85a1283",
   "metadata": {},
   "outputs": [
    {
     "data": {
      "text/plain": [
       "label\n",
       "0    0.5\n",
       "4    0.5\n",
       "Name: proportion, dtype: float64"
      ]
     },
     "execution_count": 5,
     "metadata": {},
     "output_type": "execute_result"
    }
   ],
   "source": [
    "df['label'].value_counts(normalize=True)\n"
   ]
  },
  {
   "cell_type": "markdown",
   "id": "ef1be9e0",
   "metadata": {},
   "source": [
    "## __Statistiques sur la longueur des tweets__\n"
   ]
  },
  {
   "cell_type": "code",
   "execution_count": 6,
   "id": "ba5bbae1",
   "metadata": {},
   "outputs": [
    {
     "data": {
      "text/plain": [
       "count    1.600000e+06\n",
       "mean     7.409011e+01\n",
       "std      3.644114e+01\n",
       "min      6.000000e+00\n",
       "25%      4.400000e+01\n",
       "50%      6.900000e+01\n",
       "75%      1.040000e+02\n",
       "max      3.740000e+02\n",
       "Name: len, dtype: float64"
      ]
     },
     "execution_count": 6,
     "metadata": {},
     "output_type": "execute_result"
    }
   ],
   "source": [
    "df['len'] = df['text'].str.len()\n",
    "df['len'].describe()\n"
   ]
  },
  {
   "cell_type": "code",
   "execution_count": 7,
   "id": "a1fb18e7",
   "metadata": {},
   "outputs": [
    {
     "data": {
      "text/plain": [
       "label     int64\n",
       "text     object\n",
       "len       int64\n",
       "dtype: object"
      ]
     },
     "metadata": {},
     "output_type": "display_data"
    },
    {
     "data": {
      "text/plain": [
       "label    0\n",
       "text     0\n",
       "len      0\n",
       "dtype: int64"
      ]
     },
     "metadata": {},
     "output_type": "display_data"
    },
    {
     "name": "stdout",
     "output_type": "stream",
     "text": [
      "Labels uniques : [0, 4]\n",
      "Doublons sur 'text' : 18534\n"
     ]
    }
   ],
   "source": [
    "# Aperçu types et valeurs manquantes\n",
    "display(df.dtypes)\n",
    "display(df.isna().sum().sort_values(ascending=False))\n",
    "\n",
    "# Vérification du domaine de labels\n",
    "labels_uniques = sorted(df[\"label\"].unique().tolist())\n",
    "print(\"Labels uniques :\", labels_uniques)\n",
    "assert set(labels_uniques).issubset({0,4}), \"Les labels ne sont pas uniquement {0,4}.\"\n",
    "\n",
    "# Doublons (au cas où)\n",
    "nb_dupl_text = df[\"text\"].duplicated().sum()\n",
    "print(\"Doublons sur 'text' :\", nb_dupl_text)\n"
   ]
  },
  {
   "cell_type": "markdown",
   "id": "eb5e9dad",
   "metadata": {},
   "source": [
    "## __Création d'un dictionnaire de données__\n",
    "\n",
    "Un dictionnaire de données (ou data dictionary) est un document qui décrit chaque colonne du dataset.  \n",
    "Il répond à trois objectifs :\n",
    "- __Compréhension__ : savoir exactement ce que contient chaque champ (utile pour le créateur, mais aussi pour le lecteur).\n",
    "- __Communication__ : si quelqu’un d’autre reprend ton projet, il/elle peut comprendre la structure des données sans replonger dans le CSV.\n",
    "- __Traçabilité__ : noter les décisions (par ex. « colonne X supprimée car redondante »)."
   ]
  },
  {
   "cell_type": "code",
   "execution_count": 8,
   "id": "704fe480",
   "metadata": {},
   "outputs": [
    {
     "data": {
      "text/html": [
       "<div>\n",
       "<style scoped>\n",
       "    .dataframe tbody tr th:only-of-type {\n",
       "        vertical-align: middle;\n",
       "    }\n",
       "\n",
       "    .dataframe tbody tr th {\n",
       "        vertical-align: top;\n",
       "    }\n",
       "\n",
       "    .dataframe thead th {\n",
       "        text-align: right;\n",
       "    }\n",
       "</style>\n",
       "<table border=\"1\" class=\"dataframe\">\n",
       "  <thead>\n",
       "    <tr style=\"text-align: right;\">\n",
       "      <th></th>\n",
       "      <th>colonne</th>\n",
       "      <th>type</th>\n",
       "      <th>description</th>\n",
       "      <th>exemple</th>\n",
       "      <th>%missing</th>\n",
       "      <th>n_uniques</th>\n",
       "    </tr>\n",
       "  </thead>\n",
       "  <tbody>\n",
       "    <tr>\n",
       "      <th>0</th>\n",
       "      <td>label</td>\n",
       "      <td>int64</td>\n",
       "      <td>Sentiment binaire (0 = négatif, 4 = positif)</td>\n",
       "      <td>0</td>\n",
       "      <td>0.0</td>\n",
       "      <td>2</td>\n",
       "    </tr>\n",
       "    <tr>\n",
       "      <th>1</th>\n",
       "      <td>text</td>\n",
       "      <td>object</td>\n",
       "      <td>Contenu textuel du tweet (anglais)</td>\n",
       "      <td>@switchfoot http://twitpic.com/2y1zl - Awww, t...</td>\n",
       "      <td>0.0</td>\n",
       "      <td>1581466</td>\n",
       "    </tr>\n",
       "    <tr>\n",
       "      <th>2</th>\n",
       "      <td>len</td>\n",
       "      <td>int64</td>\n",
       "      <td>Longueur (nb de caractères) calculée</td>\n",
       "      <td>115</td>\n",
       "      <td>0.0</td>\n",
       "      <td>257</td>\n",
       "    </tr>\n",
       "  </tbody>\n",
       "</table>\n",
       "</div>"
      ],
      "text/plain": [
       "  colonne    type                                   description  \\\n",
       "0   label   int64  Sentiment binaire (0 = négatif, 4 = positif)   \n",
       "1    text  object            Contenu textuel du tweet (anglais)   \n",
       "2     len   int64          Longueur (nb de caractères) calculée   \n",
       "\n",
       "                                             exemple  %missing  n_uniques  \n",
       "0                                                  0       0.0          2  \n",
       "1  @switchfoot http://twitpic.com/2y1zl - Awww, t...       0.0    1581466  \n",
       "2                                                115       0.0        257  "
      ]
     },
     "metadata": {},
     "output_type": "display_data"
    },
    {
     "name": "stdout",
     "output_type": "stream",
     "text": [
      "Exporté : ../reports/data_dictionary.csv et ../reports/data_dictionary.md\n"
     ]
    }
   ],
   "source": [
    "import pandas as pd\n",
    "import numpy as np\n",
    "\n",
    "def safe_example(series, max_len=80):\n",
    "    if series.empty:\n",
    "        return \"\"\n",
    "    x = series.iloc[0]\n",
    "    if pd.isna(x):\n",
    "        return \"\"\n",
    "    x = str(x)\n",
    "    return x[:max_len] + (\"...\" if len(x) > max_len else \"\")\n",
    "\n",
    "# Métriques globales utiles\n",
    "missing = df.isna().mean().to_dict()\n",
    "nunique = df.nunique(dropna=True).to_dict()\n",
    "\n",
    "# Dictionnaire de base\n",
    "dico = []\n",
    "\n",
    "# label\n",
    "if \"label\" in df.columns:\n",
    "    dico.append({\n",
    "        \"colonne\": \"label\",\n",
    "        \"type\": str(df[\"label\"].dtype),\n",
    "        \"description\": \"Sentiment binaire (0 = négatif, 4 = positif)\",\n",
    "        \"exemple\": \"\" if df.empty else int(df[\"label\"].iloc[0]),\n",
    "        \"%missing\": round(100*missing.get(\"label\", 0), 2),\n",
    "        \"n_uniques\": int(nunique.get(\"label\", 0))\n",
    "    })\n",
    "\n",
    "# text\n",
    "if \"text\" in df.columns:\n",
    "    dico.append({\n",
    "        \"colonne\": \"text\",\n",
    "        \"type\": str(df[\"text\"].dtype),\n",
    "        \"description\": \"Contenu textuel du tweet (anglais)\",\n",
    "        \"exemple\": safe_example(df[\"text\"]),\n",
    "        \"%missing\": round(100*missing.get(\"text\", 0), 2),\n",
    "        \"n_uniques\": int(nunique.get(\"text\", 0))\n",
    "    })\n",
    "\n",
    "# colonnes dérivées éventuelles\n",
    "for c, desc in [\n",
    "    (\"len\", \"Longueur (nb de caractères) calculée\"),\n",
    "    # (\"num_urls\", \"Nombre d'URL détectées\"),\n",
    "    # (\"num_mentions\", \"Nombre de mentions détectées\"),\n",
    "]:\n",
    "    if c in df.columns:\n",
    "        dico.append({\n",
    "            \"colonne\": c,\n",
    "            \"type\": str(df[c].dtype),\n",
    "            \"description\": desc,\n",
    "            \"exemple\": \"\" if df.empty else df[c].iloc[0],\n",
    "            \"%missing\": round(100*missing.get(c, 0), 2),\n",
    "            \"n_uniques\": int(nunique.get(c, 0))\n",
    "        })\n",
    "\n",
    "# DataFrame propre avec colonnes ordonnées\n",
    "cols_order = [\"colonne\", \"type\", \"description\", \"exemple\", \"%missing\", \"n_uniques\"]\n",
    "data_dict = pd.DataFrame(dico)[cols_order]\n",
    "display(data_dict)\n",
    "\n",
    "# Exports\n",
    "data_dict_path_csv = \"../reports/data_dictionary.csv\"\n",
    "data_dict_path_md  = \"../reports/data_dictionary.md\"\n",
    "\n",
    "data_dict.to_csv(data_dict_path_csv, index=False)\n",
    "\n",
    "with open(data_dict_path_md, \"w\", encoding=\"utf-8\") as f:\n",
    "    f.write(\"# Data Dictionary\\n\\n\")\n",
    "    for _, r in data_dict.iterrows():\n",
    "        f.write(f\"## {r['colonne']}\\n\")\n",
    "        f.write(f\"- Type : `{r['type']}`\\n\")\n",
    "        f.write(f\"- Description : {r['description']}\\n\")\n",
    "        f.write(f\"- Exemple : {r['exemple']}\\n\")\n",
    "        f.write(f\"- % manquants : {r['%missing']}%\\n\")\n",
    "        f.write(f\"- Nb. valeurs uniques : {r['n_uniques']}\\n\\n\")\n",
    "\n",
    "print(\"Exporté :\", data_dict_path_csv, \"et\", data_dict_path_md)\n"
   ]
  },
  {
   "cell_type": "markdown",
   "id": "4892bee7",
   "metadata": {},
   "source": [
    "## __Gestion des doublons__\n",
    "\n",
    "Objectif : nettoyer les doublons avant l’EDA.\n",
    "1) __Supprimer complètement__ les textes __contradictoires__ (même `text` avec des `label` différents).\n",
    "2) Sur le reste, __garder la première occurrence__ pour chaque doublon __(même `text` et même `label`)__.\n",
    "\n",
    "Cette décision vise à éviter d’introduire du bruit (contradictions) et à réduire les répétitions exactes qui n’apportent pas d’information supplémentaire au modèle."
   ]
  },
  {
   "cell_type": "code",
   "execution_count": 9,
   "id": "d9afce0a",
   "metadata": {},
   "outputs": [
    {
     "name": "stdout",
     "output_type": "stream",
     "text": [
      "Nombre de doublons détectés dans text : 18534\n"
     ]
    }
   ],
   "source": [
    "# Nombre de doublons exacts sur la colonne text\n",
    "nb_duplicated = df[\"text\"].duplicated().sum()\n",
    "print(f\"Nombre de doublons détectés dans text : {nb_duplicated}\")\n"
   ]
  },
  {
   "cell_type": "code",
   "execution_count": 10,
   "id": "680cdaae",
   "metadata": {},
   "outputs": [
    {
     "data": {
      "text/html": [
       "<div>\n",
       "<style scoped>\n",
       "    .dataframe tbody tr th:only-of-type {\n",
       "        vertical-align: middle;\n",
       "    }\n",
       "\n",
       "    .dataframe tbody tr th {\n",
       "        vertical-align: top;\n",
       "    }\n",
       "\n",
       "    .dataframe thead th {\n",
       "        text-align: right;\n",
       "    }\n",
       "</style>\n",
       "<table border=\"1\" class=\"dataframe\">\n",
       "  <thead>\n",
       "    <tr style=\"text-align: right;\">\n",
       "      <th></th>\n",
       "      <th>text</th>\n",
       "      <th>count</th>\n",
       "    </tr>\n",
       "  </thead>\n",
       "  <tbody>\n",
       "    <tr>\n",
       "      <th>1416158</th>\n",
       "      <td>isPlayer Has Died! Sorry</td>\n",
       "      <td>210</td>\n",
       "    </tr>\n",
       "    <tr>\n",
       "      <th>1312365</th>\n",
       "      <td>good morning</td>\n",
       "      <td>118</td>\n",
       "    </tr>\n",
       "    <tr>\n",
       "      <th>1333240</th>\n",
       "      <td>headache</td>\n",
       "      <td>115</td>\n",
       "    </tr>\n",
       "    <tr>\n",
       "      <th>843182</th>\n",
       "      <td>Good morning</td>\n",
       "      <td>112</td>\n",
       "    </tr>\n",
       "    <tr>\n",
       "      <th>870665</th>\n",
       "      <td>Headache</td>\n",
       "      <td>106</td>\n",
       "    </tr>\n",
       "    <tr>\n",
       "      <th>3166</th>\n",
       "      <td>cant afford to see Angels and Demons, so i wa...</td>\n",
       "      <td>86</td>\n",
       "    </tr>\n",
       "    <tr>\n",
       "      <th>1069563</th>\n",
       "      <td>Not to worry, noone got that one. Next questio...</td>\n",
       "      <td>86</td>\n",
       "    </tr>\n",
       "    <tr>\n",
       "      <th>847272</th>\n",
       "      <td>Goodnight</td>\n",
       "      <td>85</td>\n",
       "    </tr>\n",
       "    <tr>\n",
       "      <th>1462471</th>\n",
       "      <td>my tummy hurts</td>\n",
       "      <td>81</td>\n",
       "    </tr>\n",
       "    <tr>\n",
       "      <th>993586</th>\n",
       "      <td>Jogging, isnt REALLY that cool, especially if ...</td>\n",
       "      <td>80</td>\n",
       "    </tr>\n",
       "    <tr>\n",
       "      <th>1254848</th>\n",
       "      <td>at work</td>\n",
       "      <td>77</td>\n",
       "    </tr>\n",
       "    <tr>\n",
       "      <th>892147</th>\n",
       "      <td>I am so so so so so bored of studying</td>\n",
       "      <td>76</td>\n",
       "    </tr>\n",
       "    <tr>\n",
       "      <th>1314241</th>\n",
       "      <td>goodnight</td>\n",
       "      <td>70</td>\n",
       "    </tr>\n",
       "    <tr>\n",
       "      <th>753243</th>\n",
       "      <td>At work</td>\n",
       "      <td>67</td>\n",
       "    </tr>\n",
       "    <tr>\n",
       "      <th>1056711</th>\n",
       "      <td>My tummy hurts</td>\n",
       "      <td>67</td>\n",
       "    </tr>\n",
       "    <tr>\n",
       "      <th>1059876</th>\n",
       "      <td>Need to send emails to 100,000  contacts? Chec...</td>\n",
       "      <td>67</td>\n",
       "    </tr>\n",
       "    <tr>\n",
       "      <th>841283</th>\n",
       "      <td>Good Morning</td>\n",
       "      <td>64</td>\n",
       "    </tr>\n",
       "    <tr>\n",
       "      <th>1458636</th>\n",
       "      <td>my head hurts</td>\n",
       "      <td>54</td>\n",
       "    </tr>\n",
       "    <tr>\n",
       "      <th>1339973</th>\n",
       "      <td>homework</td>\n",
       "      <td>53</td>\n",
       "    </tr>\n",
       "    <tr>\n",
       "      <th>1078783</th>\n",
       "      <td>Off to work</td>\n",
       "      <td>52</td>\n",
       "    </tr>\n",
       "  </tbody>\n",
       "</table>\n",
       "</div>"
      ],
      "text/plain": [
       "                                                      text  count\n",
       "1416158                          isPlayer Has Died! Sorry     210\n",
       "1312365                                      good morning     118\n",
       "1333240                                          headache     115\n",
       "843182                                       Good morning     112\n",
       "870665                                           Headache     106\n",
       "3166      cant afford to see Angels and Demons, so i wa...     86\n",
       "1069563  Not to worry, noone got that one. Next questio...     86\n",
       "847272                                          Goodnight      85\n",
       "1462471                                    my tummy hurts      81\n",
       "993586   Jogging, isnt REALLY that cool, especially if ...     80\n",
       "1254848                                           at work      77\n",
       "892147              I am so so so so so bored of studying      76\n",
       "1314241                                         goodnight      70\n",
       "753243                                            At work      67\n",
       "1056711                                    My tummy hurts      67\n",
       "1059876  Need to send emails to 100,000  contacts? Chec...     67\n",
       "841283                                       Good Morning      64\n",
       "1458636                                     my head hurts      54\n",
       "1339973                                          homework      53\n",
       "1078783                                       Off to work      52"
      ]
     },
     "execution_count": 10,
     "metadata": {},
     "output_type": "execute_result"
    }
   ],
   "source": [
    "# Compter les occurrences par texte et garder ceux avec au moins 2 occurrences\n",
    "dup_counts = (\n",
    "    df.groupby(\"text\", dropna=False)\n",
    "      .size()\n",
    "      .reset_index(name=\"count\")\n",
    "      .sort_values(\"count\", ascending=False)\n",
    ")\n",
    "\n",
    "dup_counts_head = dup_counts[dup_counts[\"count\"] > 1].head(20)\n",
    "dup_counts_head\n"
   ]
  },
  {
   "cell_type": "code",
   "execution_count": 11,
   "id": "8ee36f1e",
   "metadata": {},
   "outputs": [
    {
     "name": "stdout",
     "output_type": "stream",
     "text": [
      "Textes avec labels contradictoires : 2225\n"
     ]
    }
   ],
   "source": [
    "# Textes qui apparaissent avec plusieurs labels (incohérences)\n",
    "multi_label = (\n",
    "    df.groupby(\"text\")[\"label\"]\n",
    "      .nunique()\n",
    "      .reset_index(name=\"n_labels\")\n",
    "      .query(\"n_labels > 1\")\n",
    ")\n",
    "\n",
    "print(f\"Textes avec labels contradictoires : {len(multi_label)}\")\n",
    "\n",
    "# Voir quelques exemples contradictoires\n",
    "if len(multi_label) > 0:\n",
    "    sample_contra = (\n",
    "        df.merge(multi_label[[\"text\"]], on=\"text\", how=\"inner\")\n",
    "          .sort_values(\"text\")\n",
    "          .head(50)\n",
    "    )\n",
    "    sample_contra\n"
   ]
  },
  {
   "cell_type": "code",
   "execution_count": 12,
   "id": "f7dc7b54",
   "metadata": {},
   "outputs": [
    {
     "name": "stdout",
     "output_type": "stream",
     "text": [
      "Textes contradictoires détectés : 2225\n",
      "Lignes supprimées car 'text' contradictoire : 6895 (sur 1600000)\n",
      "Taille après suppression des contradictoires : (1593105, 3)\n",
      "Doublons exacts (text+label) supprimés : 13864\n",
      "Taille finale : (1579241, 3)  |  Réduction totale : 1.30%\n",
      "Export parquet : ../data/processed/tweets_clean.parquet\n"
     ]
    }
   ],
   "source": [
    "# ---- paramètres de sortie\n",
    "OUT_PATH = \"../data/processed/tweets_clean.parquet\"  # nouveau fichier traité\n",
    "\n",
    "# ---- 0) sauvegarder la taille initiale\n",
    "n0 = df.shape[0]\n",
    "\n",
    "# ---- 1) détecter les textes contradictoires (même text, plusieurs labels)\n",
    "multi_label = (\n",
    "    df.groupby(\"text\")[\"label\"]\n",
    "      .nunique(dropna=False)\n",
    "      .reset_index(name=\"n_labels\")\n",
    "      .query(\"n_labels > 1\")\n",
    ")\n",
    "\n",
    "n_contra_texts = multi_label.shape[0]\n",
    "\n",
    "# Vérification :\n",
    "EXPECTED_CONTRADICTORY = 2225\n",
    "print(f\"Textes contradictoires détectés : {n_contra_texts}\")\n",
    "if EXPECTED_CONTRADICTORY and n_contra_texts != EXPECTED_CONTRADICTORY:\n",
    "    print(f\"⚠️ Note : tu attendais {EXPECTED_CONTRADICTORY}, on a trouvé {n_contra_texts}. (info, pas bloquant)\")\n",
    "\n",
    "# ---- 2) supprimer TOUTES les lignes dont le 'text' fait partie des contradictoires\n",
    "df_no_contra = df[~df[\"text\"].isin(multi_label[\"text\"])].copy()\n",
    "n_after_contra = df_no_contra.shape[0]\n",
    "removed_contra_rows = n0 - n_after_contra\n",
    "\n",
    "print(f\"Lignes supprimées car 'text' contradictoire : {removed_contra_rows} (sur {n0})\")\n",
    "print(f\"Taille après suppression des contradictoires : {df_no_contra.shape}\")\n",
    "\n",
    "# ---- 3) supprimer ensuite les doublons exacts (même text ET même label), garder la première occurrence\n",
    "df_clean = df_no_contra.drop_duplicates(subset=[\"text\", \"label\"], keep=\"first\").copy()\n",
    "n_final = df_clean.shape[0]\n",
    "removed_exact_dups = n_after_contra - n_final\n",
    "pct_reduc_total = 100 * (1 - n_final / n0)\n",
    "\n",
    "print(f\"Doublons exacts (text+label) supprimés : {removed_exact_dups}\")\n",
    "print(f\"Taille finale : {df_clean.shape}  |  Réduction totale : {pct_reduc_total:.2f}%\")\n",
    "\n",
    "# ---- 4) enregistrer la version nettoyée\n",
    "df_clean.to_parquet(OUT_PATH, index=False)\n",
    "print(f\"Export parquet : {OUT_PATH}\")\n"
   ]
  },
  {
   "cell_type": "code",
   "execution_count": 13,
   "id": "e29d0972",
   "metadata": {},
   "outputs": [
    {
     "name": "stdout",
     "output_type": "stream",
     "text": [
      "MLflow: décision de déduplication loggée.\n"
     ]
    }
   ],
   "source": [
    "# Centraliser les logs au niveau racine du projet (le notebook est dans /notebooks/)\n",
    "mlflow.set_tracking_uri(\"file:../mlruns\")\n",
    "mlflow.set_experiment(\"Projet7-Sentiment\")\n",
    "\n",
    "metrics = {\n",
    "    \"n_rows_initial\": int(n0),\n",
    "    \"n_texts_contradictoires\": int(n_contra_texts),\n",
    "    \"n_rows_apres_contra\": int(n_after_contra),\n",
    "    \"n_rows_final\": int(n_final),\n",
    "    \"n_rows_removed_contra\": int(removed_contra_rows),\n",
    "    \"n_rows_removed_exact_dups\": int(removed_exact_dups),\n",
    "    \"pct_reduction_total\": float(pct_reduc_total),\n",
    "}\n",
    "params = {\n",
    "    \"rule_contradictions\": \"drop ALL rows for texts with multiple labels\",\n",
    "    \"rule_exact_duplicates\": \"drop_duplicates(subset=['text','label'], keep='first')\",\n",
    "    \"output_path\": OUT_PATH,\n",
    "}\n",
    "\n",
    "log_run(\"CLEAN_DUPLICATES_STEP1\", params=params, metrics=metrics)\n",
    "print(\"MLflow: décision de déduplication loggée.\")\n"
   ]
  },
  {
   "cell_type": "markdown",
   "id": "e0c5ef5f",
   "metadata": {},
   "source": [
    "## __Exploration des données texte__"
   ]
  },
  {
   "cell_type": "code",
   "execution_count": 14,
   "id": "325a7024",
   "metadata": {},
   "outputs": [],
   "source": [
    "# Exploration des données texte\n",
    "# Import des bibliothèques nécessaires\n",
    "import pandas as pd\n",
    "import numpy as np\n",
    "import seaborn as sns\n",
    "import nltk\n",
    "import spacy\n",
    "import matplotlib.pyplot as plt\n",
    "import tensorflow as tf\n"
   ]
  },
  {
   "cell_type": "code",
   "execution_count": 15,
   "id": "6970e970",
   "metadata": {},
   "outputs": [
    {
     "name": "stdout",
     "output_type": "stream",
     "text": [
      "label\n",
      "0    800000\n",
      "4    800000\n",
      "Name: count, dtype: int64\n"
     ]
    },
    {
     "data": {
      "image/png": "[encoded data removed]",
      "text/plain": [
       "<Figure size 640x480 with 1 Axes>"
      ]
     },
     "metadata": {},
     "output_type": "display_data"
    },
    {
     "data": {
      "image/png": "[encoded data removed]",
      "text/plain": [
       "<Figure size 640x480 with 1 Axes>"
      ]
     },
     "metadata": {},
     "output_type": "display_data"
    },
    {
     "data": {
      "image/png": "[encoded data removed]",
      "text/plain": [
       "<Figure size 640x480 with 1 Axes>"
      ]
     },
     "metadata": {},
     "output_type": "display_data"
    },
    {
     "name": "stdout",
     "output_type": "stream",
     "text": [
      "has_url        0.043864\n",
      "has_mention    0.466520\n",
      "has_hashtag    0.023008\n",
      "dtype: float64\n",
      "\n",
      "--- Exemples négatifs ---\n",
      "[\"@xnausikaax oh no! where did u order from? that's horrible \", 'A great hard training weekend is over.  a couple days of rest and lets do it again!  Lots of computer time to put in now ', \"Right, off to work  Only 5 hours to go until I'm free xD\", 'I am craving for japanese food ', 'Jean Michel Jarre concert tomorrow  gotta work 7-3 before though ']\n",
      "\n",
      "--- Exemples positifs ---\n",
      "['Is lookin 4ward to a long weekend  really dont want to go to work 2day tho =[ x', '#myweakness  Is music and i live to meet the people who make it ', 'figured out the Internet on my new iPod ', \"@hillsongunited can't wait to worship with you guys tonight. it'll be so much fun \", \"@sillybeggar Congrats James !! I'm sure the book is going to be a huge success \"]\n"
     ]
    }
   ],
   "source": [
    "# --- Étape 2 : Exploration des données texte ---\n",
    "\n",
    "import matplotlib.pyplot as plt\n",
    "import seaborn as sns\n",
    "\n",
    "# 1. Stats sur les labels\n",
    "label_counts = df[\"label\"].value_counts()\n",
    "print(label_counts)\n",
    "sns.barplot(x=label_counts.index, y=label_counts.values)\n",
    "plt.title(\"Répartition des labels (0=négatif, 4=positif)\")\n",
    "plt.show()\n",
    "\n",
    "# 2. Longueur des tweets\n",
    "sns.histplot(df[\"len\"], bins=50, kde=True)\n",
    "plt.title(\"Distribution de la longueur des tweets\")\n",
    "plt.show()\n",
    "\n",
    "# 3. Nb de tokens\n",
    "df[\"n_tokens\"] = df[\"text\"].str.split().apply(len)\n",
    "sns.histplot(df[\"n_tokens\"], bins=50, kde=False)\n",
    "plt.title(\"Distribution du nombre de tokens\")\n",
    "plt.show()\n",
    "\n",
    "# 4. Analyse simple sur ponctuation/URLs/mentions\n",
    "df[\"has_url\"] = df[\"text\"].str.contains(\"http\")\n",
    "df[\"has_mention\"] = df[\"text\"].str.contains(\"@\")\n",
    "df[\"has_hashtag\"] = df[\"text\"].str.contains(\"#\")\n",
    "\n",
    "print(df[[\"has_url\", \"has_mention\", \"has_hashtag\"]].mean())\n",
    "\n",
    "# 5. Quelques exemples de tweets\n",
    "print(\"\\n--- Exemples négatifs ---\")\n",
    "print(df[df[\"label\"] == 0][\"text\"].sample(5, random_state=42).to_list())\n",
    "\n",
    "print(\"\\n--- Exemples positifs ---\")\n",
    "print(df[df[\"label\"] == 4][\"text\"].sample(5, random_state=42).to_list())\n"
   ]
  },
  {
   "cell_type": "markdown",
   "id": "20e07747",
   "metadata": {},
   "source": [
    "__Vérifications des données__\n",
    "\n",
    "- label :\n",
    "    - 800 000 négatifs (0)\n",
    "    - 800 000 positifs (4)\n",
    "→ Dataset parfaitement équilibré \n",
    "\n",
    "- Features ajoutées :\n",
    "    - `has_url` : ≈ 4.4% des tweets contiennent un lien\n",
    "    - `has_mention` : ≈ 46.6% des tweets mentionnent quelqu’un\n",
    "    - `has_hashtag` : ≈ 2.3% des tweets contiennent un hashtag\n",
    "\n",
    "- Visualisations :\n",
    "    - Histogrammes et barplots ont bien fonctionné (les Figure size 640x480 confirment l’affichage des graphes).\n",
    "    - Répartition équilibrée entre labels, distribution de longueurs de textes et fréquence des features.\n",
    "\n",
    "- Exemples :\n",
    "    - Négatifs → contiennent frustration, contraintes, et des sentiments partagés.\n",
    "    - Positifs → anticipation, joie, succès, encouragement et sentiments partagés.\n",
    "→ Sélection plutôt cohérente avec le label."
   ]
  },
  {
   "cell_type": "markdown",
   "id": "5d411f1a",
   "metadata": {},
   "source": [
    "## __Sous-échantillon pour prototypage__\n",
    "- Objectif : accélérer l’itération (prétraitement + baselines) sans saturer la machine.\n",
    "- Méthode : échantillon stratifié __16 000 tweets__ (8 000 négatifs, 8 000 positifs) depuis le dataset nettoyé des doublons.\n",
    "- Fichiers :\n",
    "  - Entrée : `data/processed/tweets_clean.parquet`\n",
    "  - Sortie : `data/processed/tweets_16k.parquet`\n",
    "- Le jeu complet restera utilisé plus tard (optimisation et modèles avancés).\n",
    "\n"
   ]
  },
  {
   "cell_type": "code",
   "execution_count": 16,
   "id": "17d2a4f8",
   "metadata": {},
   "outputs": [
    {
     "name": "stdout",
     "output_type": "stream",
     "text": [
      "label\n",
      "4    791281\n",
      "0    787960\n",
      "Name: count, dtype: int64\n",
      "(16000, 3) label\n",
      "0    8000\n",
      "4    8000\n",
      "Name: count, dtype: int64\n",
      "Export échantillon : ../data/processed/tweets_16k.parquet\n"
     ]
    },
    {
     "name": "stderr",
     "output_type": "stream",
     "text": [
      "/var/folders/zt/cgsq3wl14cz2fvg9pccn_g1r0000gn/T/ipykernel_17274/3602538096.py:17: FutureWarning: DataFrameGroupBy.apply operated on the grouping columns. This behavior is deprecated, and in a future version of pandas the grouping columns will be excluded from the operation. Either pass `include_groups=False` to exclude the groupings or explicitly select the grouping columns after groupby to silence this warning.\n",
      "  .apply(lambda g: g.sample(n=N_PER_LABEL, random_state=SEED))\n"
     ]
    }
   ],
   "source": [
    "from pathlib import Path\n",
    "\n",
    "IN_PATH  = \"../data/processed/tweets_clean.parquet\"\n",
    "OUT_PATH = \"../data/processed/tweets_16k.parquet\"\n",
    "SEED     = 42\n",
    "N_PER_LABEL = 8000  # 8k par classe → 16k total\n",
    "\n",
    "df_full = pd.read_parquet(IN_PATH)\n",
    "\n",
    "# vérif classes\n",
    "print(df_full[\"label\"].value_counts())\n",
    "\n",
    "# stratification simple : même nombre par classe\n",
    "df_16k = (\n",
    "    df_full\n",
    "    .groupby(\"label\", group_keys=False)\n",
    "    .apply(lambda g: g.sample(n=N_PER_LABEL, random_state=SEED))\n",
    "    .reset_index(drop=True)\n",
    ")\n",
    "\n",
    "print(df_16k.shape, df_16k[\"label\"].value_counts())\n",
    "\n",
    "# sauvegarde\n",
    "Path(\"../data/processed\").mkdir(parents=True, exist_ok=True)\n",
    "df_16k.to_parquet(OUT_PATH, index=False)\n",
    "print(\"Export échantillon :\", OUT_PATH)\n"
   ]
  },
  {
   "cell_type": "markdown",
   "id": "3d1c3fb0",
   "metadata": {},
   "source": [
    "## __Prétraitement NLP sur l’échantillon 16k__\n",
    "\n",
    "- Entrée : `data/processed/tweets_16k.parquet` (8k négatifs, 8k positifs).\n",
    "- Étapes :\n",
    "  1) Nettoyage (lower, URLs, @, #, HTML, non-alpha)\n",
    "  2) Normalisation d'emojis via `emoji.demojize()`: deux variantes sont conservées pour comparaison.\n",
    "  3) __Tokenisation__ + retraits de stopwords (→ `tokens`)\n",
    "  4) __Lemmatisation__ spaCy (→ `lemmas`)\n",
    "  5) Texte final pour vectorisation (→ `text_clean`)\n",
    "- Optimisation : `nlp.pipe(..., batch_size, n_process)` pour paralléliser la lemmatisation.\n",
    "- Sortie : `data/processed/tweets_16k_clean.parquet` et `data/processed/tweets_16k_clean_emoji.parquet`.\n",
    "\n",
    "__Décisions__ :\n",
    "- Conserver la __négation__ (`not`, `no`, `nor`, `n't`) car signal fort pour le sentiment.\n",
    "- Gérer les __contractions__ (don't → do not) avant tokenisation pour stabiliser les bigrammes (_not good_).\n",
    "- Limiter les __allongements__ (soooo → soo) pour réduire le bruit.\n",
    "- Normaliser les __emojis__ (🙂 → :slightly_smiling_face:) et laisser passer `:tokens_emoji:`.\n",
    "- Mettre dans un __transformer sklearn__ réutilisable pour `Pipeline`/`GridSearchCV`.\n",
    "\n",
    "Colonnes conservées à des fins pédagogiques :\n",
    "- `text_clean_base`, `text_clean_base_emoji`, `tokens`, `lemmas`, `text_clean`, `tokens_emoji`, `text_clean_emoji`.\n"
   ]
  },
  {
   "cell_type": "code",
   "execution_count": 17,
   "id": "fa9d1f87",
   "metadata": {},
   "outputs": [
    {
     "name": "stdout",
     "output_type": "stream",
     "text": [
      "Stopwords chargés : 198 mots\n"
     ]
    }
   ],
   "source": [
    "import os, nltk\n",
    "\n",
    "# Dossier local (dans ton HOME) où NLTK va stocker les données\n",
    "NLTK_DIR = os.path.expanduser(\"~/nltk_data\")\n",
    "os.makedirs(NLTK_DIR, exist_ok=True)\n",
    "\n",
    "# S'assurer que NLTK regarde dans ce dossier\n",
    "if NLTK_DIR not in nltk.data.path:\n",
    "    nltk.data.path.append(NLTK_DIR)\n",
    "\n",
    "# Télécharger (silencieusement) ce qui manque\n",
    "for pkg in [\"stopwords\", \"punkt\", \"wordnet\"]:\n",
    "    try:\n",
    "        nltk.data.find(f\"corpora/{pkg}\")\n",
    "    except LookupError:\n",
    "        nltk.download(pkg, download_dir=NLTK_DIR, quiet=True)\n",
    "\n",
    "# Test : construire la liste de stopwords\n",
    "from nltk.corpus import stopwords\n",
    "stop_en = set(stopwords.words('english'))\n",
    "print(f\"Stopwords chargés : {len(stop_en)} mots\")\n"
   ]
  },
  {
   "cell_type": "code",
   "execution_count": 18,
   "id": "93e73bd4",
   "metadata": {},
   "outputs": [
    {
     "name": "stdout",
     "output_type": "stream",
     "text": [
      "Shape sample: (16000, 3) | labels:\n",
      " label\n",
      "0    8000\n",
      "4    8000\n",
      "Name: count, dtype: int64\n",
      "Avant / Après (5 exemples) :\n"
     ]
    },
    {
     "data": {
      "text/html": [
       "<div>\n",
       "<style scoped>\n",
       "    .dataframe tbody tr th:only-of-type {\n",
       "        vertical-align: middle;\n",
       "    }\n",
       "\n",
       "    .dataframe tbody tr th {\n",
       "        vertical-align: top;\n",
       "    }\n",
       "\n",
       "    .dataframe thead th {\n",
       "        text-align: right;\n",
       "    }\n",
       "</style>\n",
       "<table border=\"1\" class=\"dataframe\">\n",
       "  <thead>\n",
       "    <tr style=\"text-align: right;\">\n",
       "      <th></th>\n",
       "      <th>text</th>\n",
       "      <th>text_clean_base</th>\n",
       "      <th>text_clean_base_emoji</th>\n",
       "      <th>tokens</th>\n",
       "      <th>tokens_emoji</th>\n",
       "      <th>lemmas</th>\n",
       "      <th>text_clean</th>\n",
       "      <th>text_clean_emoji</th>\n",
       "    </tr>\n",
       "  </thead>\n",
       "  <tbody>\n",
       "    <tr>\n",
       "      <th>8756</th>\n",
       "      <td>It's 1:39 am and I'm home. My changed the kitc...</td>\n",
       "      <td>it s am and i m home my changed the kitchen ar...</td>\n",
       "      <td>it s : am and i m home my changed the kitchen ...</td>\n",
       "      <td>[home, changed, kitchen, around, hope, right, ...</td>\n",
       "      <td>[home, changed, kitchen, around, hope, right, ...</td>\n",
       "      <td>[home, change, kitchen, hope, right, apartment]</td>\n",
       "      <td>home change kitchen hope right apartment</td>\n",
       "      <td>home change kitchen hope right apartment</td>\n",
       "    </tr>\n",
       "    <tr>\n",
       "      <th>4660</th>\n",
       "      <td>@laur945 Thanks m'dear! I'll need it. I partic...</td>\n",
       "      <td>thanks m dear i ll need it i particularly hate...</td>\n",
       "      <td>thanks m dear i ll need it i particularly hate...</td>\n",
       "      <td>[thanks, dear, need, particularly, hate, helic...</td>\n",
       "      <td>[thanks, dear, need, particularly, hate, helic...</td>\n",
       "      <td>[thank, dear, need, particularly, hate, helico...</td>\n",
       "      <td>thank dear need particularly hate helicopter p...</td>\n",
       "      <td>thank dear need particularly hate helicopter p...</td>\n",
       "    </tr>\n",
       "    <tr>\n",
       "      <th>6095</th>\n",
       "      <td>Just driven past a race team base, and it had ...</td>\n",
       "      <td>just driven past a race team base and it had a...</td>\n",
       "      <td>just driven past a race team base and it had a...</td>\n",
       "      <td>[driven, past, race, team, base, space, availa...</td>\n",
       "      <td>[driven, past, race, team, base, space, availa...</td>\n",
       "      <td>[drive, past, race, team, base, space, availab...</td>\n",
       "      <td>drive past race team base space available sign</td>\n",
       "      <td>drive past race team base space available sign</td>\n",
       "    </tr>\n",
       "    <tr>\n",
       "      <th>304</th>\n",
       "      <td>Stuck at my parents, worried about work &amp;amp; ...</td>\n",
       "      <td>stuck at my parents worried about work my car ...</td>\n",
       "      <td>stuck at my parents worried about work my car ...</td>\n",
       "      <td>[stuck, parents, worried, work, car, broken]</td>\n",
       "      <td>[stuck, parents, worried, work, car, broken]</td>\n",
       "      <td>[stick, parent, worry, work, car, break]</td>\n",
       "      <td>stick parent worry work car break</td>\n",
       "      <td>stick parent worry work car break</td>\n",
       "    </tr>\n",
       "    <tr>\n",
       "      <th>8241</th>\n",
       "      <td>@mariangel_ cool  what grade are you now?</td>\n",
       "      <td>cool what grade are you now</td>\n",
       "      <td>cool what grade are you now</td>\n",
       "      <td>[cool, grade]</td>\n",
       "      <td>[cool, grade]</td>\n",
       "      <td>[cool, grade]</td>\n",
       "      <td>cool grade</td>\n",
       "      <td>cool grade</td>\n",
       "    </tr>\n",
       "  </tbody>\n",
       "</table>\n",
       "</div>"
      ],
      "text/plain": [
       "                                                   text  \\\n",
       "8756  It's 1:39 am and I'm home. My changed the kitc...   \n",
       "4660  @laur945 Thanks m'dear! I'll need it. I partic...   \n",
       "6095  Just driven past a race team base, and it had ...   \n",
       "304   Stuck at my parents, worried about work &amp; ...   \n",
       "8241          @mariangel_ cool  what grade are you now?   \n",
       "\n",
       "                                        text_clean_base  \\\n",
       "8756  it s am and i m home my changed the kitchen ar...   \n",
       "4660  thanks m dear i ll need it i particularly hate...   \n",
       "6095  just driven past a race team base and it had a...   \n",
       "304   stuck at my parents worried about work my car ...   \n",
       "8241                        cool what grade are you now   \n",
       "\n",
       "                                  text_clean_base_emoji  \\\n",
       "8756  it s : am and i m home my changed the kitchen ...   \n",
       "4660  thanks m dear i ll need it i particularly hate...   \n",
       "6095  just driven past a race team base and it had a...   \n",
       "304   stuck at my parents worried about work my car ...   \n",
       "8241                        cool what grade are you now   \n",
       "\n",
       "                                                 tokens  \\\n",
       "8756  [home, changed, kitchen, around, hope, right, ...   \n",
       "4660  [thanks, dear, need, particularly, hate, helic...   \n",
       "6095  [driven, past, race, team, base, space, availa...   \n",
       "304        [stuck, parents, worried, work, car, broken]   \n",
       "8241                                      [cool, grade]   \n",
       "\n",
       "                                           tokens_emoji  \\\n",
       "8756  [home, changed, kitchen, around, hope, right, ...   \n",
       "4660  [thanks, dear, need, particularly, hate, helic...   \n",
       "6095  [driven, past, race, team, base, space, availa...   \n",
       "304        [stuck, parents, worried, work, car, broken]   \n",
       "8241                                      [cool, grade]   \n",
       "\n",
       "                                                 lemmas  \\\n",
       "8756    [home, change, kitchen, hope, right, apartment]   \n",
       "4660  [thank, dear, need, particularly, hate, helico...   \n",
       "6095  [drive, past, race, team, base, space, availab...   \n",
       "304            [stick, parent, worry, work, car, break]   \n",
       "8241                                      [cool, grade]   \n",
       "\n",
       "                                             text_clean  \\\n",
       "8756           home change kitchen hope right apartment   \n",
       "4660  thank dear need particularly hate helicopter p...   \n",
       "6095     drive past race team base space available sign   \n",
       "304                   stick parent worry work car break   \n",
       "8241                                         cool grade   \n",
       "\n",
       "                                       text_clean_emoji  \n",
       "8756           home change kitchen hope right apartment  \n",
       "4660  thank dear need particularly hate helicopter p...  \n",
       "6095     drive past race team base space available sign  \n",
       "304                   stick parent worry work car break  \n",
       "8241                                         cool grade  "
      ]
     },
     "metadata": {},
     "output_type": "display_data"
    },
    {
     "name": "stdout",
     "output_type": "stream",
     "text": [
      "Export : ../data/processed/tweets_16k_clean.parquet\n"
     ]
    }
   ],
   "source": [
    "import re\n",
    "from typing import List\n",
    "\n",
    "# --- Charger l'échantillon 16k ---\n",
    "df = pd.read_parquet(\"../data/processed/tweets_16k.parquet\")\n",
    "print(\"Shape sample:\", df.shape, \"| labels:\\n\", df[\"label\"].value_counts())\n",
    "\n",
    "# --- NLTK stopwords ---\n",
    "import nltk\n",
    "from nltk.corpus import stopwords\n",
    "# Assure-toi d'avoir fait une fois:\n",
    "# import nltk; nltk.download('stopwords'); nltk.download('punkt')\n",
    "stop_en = set(stopwords.words('english'))\n",
    "\n",
    "# --- spaCy (lemmatisation) ---\n",
    "import spacy\n",
    "try:\n",
    "    nlp = spacy.load(\"en_core_web_sm\", disable=[\"ner\",\"parser\"])\n",
    "except OSError:\n",
    "    # !python -m spacy download en_core_web_sm\n",
    "    nlp = spacy.load(\"en_core_web_sm\", disable=[\"ner\",\"parser\"])\n",
    "\n",
    "# --- 1) Nettoyage de base (regex) ---\n",
    "url_pat      = re.compile(r\"https?://\\S+|www\\.\\S+\")\n",
    "mention_pat  = re.compile(r\"@\\w+\")\n",
    "hashtag_pat  = re.compile(r\"#\\w+\")\n",
    "html_pat     = re.compile(r\"&\\w+;\")        # entités html\n",
    "nonalpha_pat = re.compile(r\"[^a-zA-Z\\s]\")  # garde lettres et espaces\n",
    "\n",
    "def clean_basic(text: str) -> str:\n",
    "    if not isinstance(text, str):\n",
    "        return \"\"\n",
    "    t = text.lower()\n",
    "    t = url_pat.sub(\" \", t)\n",
    "    t = mention_pat.sub(\" \", t)\n",
    "    t = hashtag_pat.sub(\" \", t)\n",
    "    t = html_pat.sub(\" \", t)\n",
    "    t = nonalpha_pat.sub(\" \", t)\n",
    "    t = re.sub(r\"\\s+\", \" \", t).strip()\n",
    "    return t\n",
    "\n",
    "df[\"text_clean_base\"] = df[\"text\"].apply(clean_basic)\n",
    "\n",
    "# Option emoji -> transforme 🙂 en \":slightly_smiling_face:\"\n",
    "try:\n",
    "    import emoji\n",
    "    def normalize_emoji(t: str) -> str:\n",
    "        return emoji.demojize(t, language=\"en\")\n",
    "except Exception:\n",
    "    # fallback si le paquet n'est pas installé\n",
    "    def normalize_emoji(t: str) -> str:\n",
    "        return t\n",
    "\n",
    "url_pat      = re.compile(r\"https?://\\S+|www\\.\\S+\")\n",
    "mention_pat  = re.compile(r\"@\\w+\")\n",
    "hashtag_pat  = re.compile(r\"#\\w+\")\n",
    "html_pat     = re.compile(r\"&\\w+;\")\n",
    "nonalpha_pat = re.compile(r\"[^a-zA-Z\\s:_]\")  # on garde \":\" et \"_\" pour les :smiling_face:\n",
    "\n",
    "def clean_basic_with_emoji(text: str) -> str:\n",
    "    if not isinstance(text, str):\n",
    "        return \"\"\n",
    "    t = normalize_emoji(text)      # 👉 étape ajoutée\n",
    "    t = t.lower()\n",
    "    t = url_pat.sub(\" \", t)\n",
    "    t = mention_pat.sub(\" \", t)\n",
    "    t = hashtag_pat.sub(\" \", t)\n",
    "    t = html_pat.sub(\" \", t)\n",
    "    t = nonalpha_pat.sub(\" \", t)\n",
    "    t = re.sub(r\"\\s+\", \" \", t).strip()\n",
    "    return t\n",
    "\n",
    "# Nous ajoutons une nouvelle colonne pour le texte nettoyé avec les emojis\n",
    "df[\"text_clean_base_emoji\"] = df[\"text\"].apply(clean_basic_with_emoji)\n",
    "\n",
    "# --- 2) Tokenisation + retrait stopwords (NLTK) ---\n",
    "def tokenize_and_filter(text: str) -> List[str]:\n",
    "    toks = text.split()  # simple et efficace après clean_basic\n",
    "    toks = [w for w in toks if (w not in stop_en and len(w) > 2)]\n",
    "    return toks\n",
    "\n",
    "df[\"tokens\"] = df[\"text_clean_base\"].apply(tokenize_and_filter)\n",
    "df[\"tokens_emoji\"] = df[\"text_clean_base_emoji\"].apply(tokenize_and_filter)\n",
    "\n",
    "\n",
    "# --- 3) Lemmatisation (spaCy) : même logique mais accélérée via nlp.pipe ---\n",
    "# On évite d'appeler nlp() pour chaque ligne (lent) ; on passe par pipe en lots/parallèle.\n",
    "texts_for_lemma = df[\"tokens\"].apply(lambda xs: \" \".join(xs)).tolist()\n",
    "\n",
    "lemmas_list = []\n",
    "# Ajuste batch_size / n_process à ta machine (M4 Max → 4 à 6 process OK)\n",
    "for doc in nlp.pipe(texts_for_lemma, batch_size=1000, n_process=4):\n",
    "    lemmas = [t.lemma_ for t in doc if t.is_alpha and not t.is_stop and len(t.lemma_) > 2]\n",
    "    lemmas_list.append(lemmas)\n",
    "\n",
    "df[\"lemmas\"] = lemmas_list\n",
    "\n",
    "texts_for_lemma_emoji = df[\"tokens_emoji\"].apply(lambda xs: \" \".join(xs)).tolist()\n",
    "lemmas_list_emoji = []\n",
    "for doc in nlp.pipe(texts_for_lemma_emoji, batch_size=1000, n_process=4):\n",
    "    lemmas = [t.lemma_ for t in doc if t.is_alpha and not t.is_stop and len(t.lemma_) > 2]\n",
    "    lemmas_list_emoji.append(lemmas)\n",
    "\n",
    "df[\"lemmas_emoji\"] = lemmas_list_emoji\n",
    "\n",
    "# --- 4) Texte final (pour TF-IDF / CountVectorizer) : identique ---\n",
    "df[\"text_clean\"] = df[\"lemmas\"].apply(lambda xs: \" \".join(xs))\n",
    "df[\"text_clean_emoji\"] = df[\"lemmas_emoji\"].apply(lambda xs: \" \".join(xs))\n",
    "\n",
    "# --- 5) Sanity checks (affichage identique) ---\n",
    "print(\"Avant / Après (5 exemples) :\")\n",
    "display(\n",
    "    df[[\"text\",\"text_clean_base\",\"text_clean_base_emoji\",\"tokens\",\"tokens_emoji\",\"lemmas\",\"text_clean\",\"text_clean_emoji\"]]\n",
    "      .sample(5, random_state=42)\n",
    ")\n",
    "\n",
    "# --- 6) Export de l'échantillon prétraité ---\n",
    "out_path = \"../data/processed/tweets_16k_clean.parquet\"\n",
    "Path(\"../data/processed\").mkdir(parents=True, exist_ok=True)\n",
    "df.to_parquet(out_path, index=False)\n",
    "print(\"Export :\", out_path)\n"
   ]
  },
  {
   "cell_type": "code",
   "execution_count": 19,
   "id": "2a1c9719",
   "metadata": {},
   "outputs": [
    {
     "name": "stdout",
     "output_type": "stream",
     "text": [
      "MLflow: PREPROCESS_16K loggé.\n",
      "MLflow: PREPROCESS_16K_EMOJI loggé.\n"
     ]
    }
   ],
   "source": [
    "mlflow.set_tracking_uri(\"file:../mlruns\")\n",
    "mlflow.set_experiment(\"Projet7-Sentiment\")\n",
    "\n",
    "metrics = {\n",
    "    \"n_rows_sample\": int(df.shape[0]),\n",
    "    \"avg_tokens\": float(df[\"tokens\"].apply(len).mean()),\n",
    "    \"avg_lemmas\": float(df[\"lemmas\"].apply(len).mean()),\n",
    "}\n",
    "params = {\n",
    "    \"sample\": \"16k (8k/8k)\",\n",
    "    \"clean\": \"lower+remove urls/@/#/html + keep alpha\",\n",
    "    \"stopwords\": \"nltk english\",\n",
    "    \"lemmatizer\": \"spacy en_core_web_sm via nlp.pipe(batch=1000, n_process=4)\",\n",
    "    \"output\": \"tweets_16k_clean.parquet\",\n",
    "}\n",
    "\n",
    "log_run(\"PREPROCESS_16K\", params=params, metrics=metrics)\n",
    "print(\"MLflow: PREPROCESS_16K loggé.\")\n",
    "\n",
    "mlflow.set_tracking_uri(\"file:../mlruns\")\n",
    "mlflow.set_experiment(\"Projet7-Sentiment\")\n",
    "\n",
    "metrics = {\n",
    "    \"n_rows\": int(df.shape[0]),\n",
    "    \"avg_tokens_base\": float(df[\"tokens\"].apply(len).mean()),\n",
    "    \"avg_tokens_emoji\": float(df[\"tokens_emoji\"].apply(len).mean()),\n",
    "    \"avg_lemmas\": float(df[\"lemmas\"].apply(len).mean()),\n",
    "}\n",
    "params = {\n",
    "    \"sample\": \"16k\",\n",
    "    \"clean_base\": \"lower + remove urls/@/#/html + keep alpha\",\n",
    "    \"emoji_norm\": \"emoji.demojize (en) → text_clean_base_emoji\",\n",
    "    \"tokenizer\": \"split() + stopwords(NLTK english) + len>2\",\n",
    "    \"lemmatizer\": \"spaCy en_core_web_sm via nlp.pipe(batch=1000, n_process=4)\",\n",
    "    \"outputs\": \"text_clean, text_clean_emoji (si créé)\",\n",
    "}\n",
    "\n",
    "log_run(\"PREPROCESS_16K_EMOJI\", params=params, metrics=metrics)\n",
    "print(\"MLflow: PREPROCESS_16K_EMOJI loggé.\")\n",
    "\n"
   ]
  },
  {
   "cell_type": "code",
   "execution_count": 20,
   "id": "03bb4160",
   "metadata": {},
   "outputs": [],
   "source": [
    "df.to_parquet(\"../data/processed/tweets_16k_clean_emoji.parquet\", index=False)\n"
   ]
  }
 ],
 "metadata": {
  "kernelspec": {
   "display_name": "sentiment-oc",
   "language": "python",
   "name": "python3"
  },
  "language_info": {
   "codemirror_mode": {
    "name": "ipython",
    "version": 3
   },
   "file_extension": ".py",
   "mimetype": "text/x-python",
   "name": "python",
   "nbconvert_exporter": "python",
   "pygments_lexer": "ipython3",
   "version": "3.11.13"
  }
 },
 "nbformat": 4,
 "nbformat_minor": 5
}
