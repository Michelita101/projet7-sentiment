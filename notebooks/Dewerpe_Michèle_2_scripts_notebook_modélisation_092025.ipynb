{
 "cells": [
  {
   "cell_type": "markdown",
   "id": "6601f0ae",
   "metadata": {},
   "source": [
    "# __Exploratory Data Analysis (EDA)__\n",
    "_Projet Analyse de sentiments — Exploration initiale des tweets_\n"
   ]
  },
  {
   "cell_type": "code",
   "execution_count": 1,
   "id": "02ceb109",
   "metadata": {},
   "outputs": [],
   "source": [
    "import sys\n",
    "import os\n",
    "\n",
    "# On ajoute le chemin absolu vers src/\n",
    "sys.path.append(os.path.abspath(\"..\"))\n",
    "\n",
    "import mlflow\n",
    "from src.utils.tracking import log_run\n",
    "\n",
    "\n",
    "# On fixe l'emplacement centralisé des logs MLflow (remonte d'un cran car le notebook est dans /notebooks/)\n",
    "mlflow.set_tracking_uri(\"file:../mlruns\")\n",
    "\n",
    "# On déclare (ou crée si nécessaire) l'expérience\n",
    "mlflow.set_experiment(\"Projet7-Sentiment\")\n",
    "\n",
    "# Exemple de paramètres et métriques fictifs\n",
    "params = {\"C\": 1.0, \"penalty\": \"l2\"}\n",
    "metrics = {\"accuracy\": 0.82, \"f1\": 0.79}\n",
    "\n",
    "# Lancement d’un premier run de test\n",
    "log_run(\"Test-LogisticRegression\", params, metrics)\n",
    "\n"
   ]
  },
  {
   "cell_type": "code",
   "execution_count": 2,
   "id": "2c029c72",
   "metadata": {},
   "outputs": [
    {
     "name": "stdout",
     "output_type": "stream",
     "text": [
      "Données brutes (non chargées ici) : ../data/raw/training.1600000.processed.noemoticon.csv\n",
      "Données traitées (chargées)       : ../data/processed/tweets.parquet\n"
     ]
    }
   ],
   "source": [
    "import pandas as pd\n",
    "\n",
    "# Documentation (commentaire) :\n",
    "\"\"\"\n",
    "CSV d’origine : training.1600000.processed.noemoticon.csv\n",
    "Colonnes attendues (historiquement) :\n",
    "  0: sentiment (0 = négatif, 4 = positif)\n",
    "  1: id du tweet\n",
    "  2: date/heure\n",
    "  3: query (souvent \"NO_QUERY\")\n",
    "  4: username\n",
    "  5: text\n",
    "\n",
    "Pipeline vers parquet (exemple générique) :\n",
    "- lecture CSV avec encoding latin-1\n",
    "- sélection colonnes [0,5] → renommage en [\"label\",\"text\"]\n",
    "- filtrage éventuel des lignes vides, normalisation minimale\n",
    "- sauvegarde en parquet dans data/processed/tweets.parquet\n",
    "\"\"\"\n",
    "\n",
    "\n",
    "SOURCE_RAW = \"../data/raw/training.1600000.processed.noemoticon.csv\"  # fichier brut (non versionné)\n",
    "SOURCE_PROCESSED = \"../data/processed/tweets.parquet\"                 # dérivé utilisé pour l'EDA\n",
    "\n",
    "print(\"Données brutes (non chargées ici) :\", SOURCE_RAW)\n",
    "print(\"Données traitées (chargées)       :\", SOURCE_PROCESSED)\n"
   ]
  },
  {
   "cell_type": "code",
   "execution_count": 3,
   "id": "3bac60b0",
   "metadata": {},
   "outputs": [
    {
     "data": {
      "text/html": [
       "<div>\n",
       "<style scoped>\n",
       "    .dataframe tbody tr th:only-of-type {\n",
       "        vertical-align: middle;\n",
       "    }\n",
       "\n",
       "    .dataframe tbody tr th {\n",
       "        vertical-align: top;\n",
       "    }\n",
       "\n",
       "    .dataframe thead th {\n",
       "        text-align: right;\n",
       "    }\n",
       "</style>\n",
       "<table border=\"1\" class=\"dataframe\">\n",
       "  <thead>\n",
       "    <tr style=\"text-align: right;\">\n",
       "      <th></th>\n",
       "      <th>label</th>\n",
       "      <th>text</th>\n",
       "    </tr>\n",
       "  </thead>\n",
       "  <tbody>\n",
       "    <tr>\n",
       "      <th>0</th>\n",
       "      <td>0</td>\n",
       "      <td>@switchfoot http://twitpic.com/2y1zl - Awww, t...</td>\n",
       "    </tr>\n",
       "    <tr>\n",
       "      <th>1</th>\n",
       "      <td>0</td>\n",
       "      <td>is upset that he can't update his Facebook by ...</td>\n",
       "    </tr>\n",
       "    <tr>\n",
       "      <th>2</th>\n",
       "      <td>0</td>\n",
       "      <td>@Kenichan I dived many times for the ball. Man...</td>\n",
       "    </tr>\n",
       "    <tr>\n",
       "      <th>3</th>\n",
       "      <td>0</td>\n",
       "      <td>my whole body feels itchy and like its on fire</td>\n",
       "    </tr>\n",
       "    <tr>\n",
       "      <th>4</th>\n",
       "      <td>0</td>\n",
       "      <td>@nationwideclass no, it's not behaving at all....</td>\n",
       "    </tr>\n",
       "  </tbody>\n",
       "</table>\n",
       "</div>"
      ],
      "text/plain": [
       "   label                                               text\n",
       "0      0  @switchfoot http://twitpic.com/2y1zl - Awww, t...\n",
       "1      0  is upset that he can't update his Facebook by ...\n",
       "2      0  @Kenichan I dived many times for the ball. Man...\n",
       "3      0    my whole body feels itchy and like its on fire \n",
       "4      0  @nationwideclass no, it's not behaving at all...."
      ]
     },
     "execution_count": 3,
     "metadata": {},
     "output_type": "execute_result"
    }
   ],
   "source": [
    "# Charger le fichier parquet optimisé\n",
    "df = pd.read_parquet(\"../data/processed/tweets.parquet\")\n",
    "\n",
    "# Aperçu des données\n",
    "df.head()\n"
   ]
  },
  {
   "cell_type": "markdown",
   "id": "27158c33",
   "metadata": {},
   "source": [
    "## __Dimensions du dataset__\n"
   ]
  },
  {
   "cell_type": "code",
   "execution_count": 6,
   "id": "06ee15f9",
   "metadata": {},
   "outputs": [
    {
     "data": {
      "text/plain": [
       "(1600000, 2)"
      ]
     },
     "execution_count": 6,
     "metadata": {},
     "output_type": "execute_result"
    }
   ],
   "source": [
    "df.shape\n"
   ]
  },
  {
   "cell_type": "markdown",
   "id": "c8a23b9a",
   "metadata": {},
   "source": [
    "## __Répartition des labels__\n"
   ]
  },
  {
   "cell_type": "code",
   "execution_count": 5,
   "id": "e85a1283",
   "metadata": {},
   "outputs": [
    {
     "data": {
      "text/plain": [
       "label\n",
       "0    0.5\n",
       "4    0.5\n",
       "Name: proportion, dtype: float64"
      ]
     },
     "execution_count": 5,
     "metadata": {},
     "output_type": "execute_result"
    }
   ],
   "source": [
    "df['label'].value_counts(normalize=True)\n"
   ]
  },
  {
   "cell_type": "markdown",
   "id": "ef1be9e0",
   "metadata": {},
   "source": [
    "## __Statistiques sur la longueur des tweets__\n"
   ]
  },
  {
   "cell_type": "code",
   "execution_count": 7,
   "id": "ba5bbae1",
   "metadata": {},
   "outputs": [
    {
     "data": {
      "text/plain": [
       "count    1.600000e+06\n",
       "mean     7.409011e+01\n",
       "std      3.644114e+01\n",
       "min      6.000000e+00\n",
       "25%      4.400000e+01\n",
       "50%      6.900000e+01\n",
       "75%      1.040000e+02\n",
       "max      3.740000e+02\n",
       "Name: len, dtype: float64"
      ]
     },
     "execution_count": 7,
     "metadata": {},
     "output_type": "execute_result"
    }
   ],
   "source": [
    "df['len'] = df['text'].str.len()\n",
    "df['len'].describe()\n"
   ]
  },
  {
   "cell_type": "code",
   "execution_count": 4,
   "id": "a1fb18e7",
   "metadata": {},
   "outputs": [
    {
     "data": {
      "text/plain": [
       "label     int64\n",
       "text     object\n",
       "dtype: object"
      ]
     },
     "metadata": {},
     "output_type": "display_data"
    },
    {
     "data": {
      "text/plain": [
       "label    0\n",
       "text     0\n",
       "dtype: int64"
      ]
     },
     "metadata": {},
     "output_type": "display_data"
    },
    {
     "name": "stdout",
     "output_type": "stream",
     "text": [
      "Labels uniques : [0, 4]\n",
      "Doublons sur 'text' : 18534\n"
     ]
    }
   ],
   "source": [
    "# Aperçu types et valeurs manquantes\n",
    "display(df.dtypes)\n",
    "display(df.isna().sum().sort_values(ascending=False))\n",
    "\n",
    "# Vérification du domaine de labels\n",
    "labels_uniques = sorted(df[\"label\"].unique().tolist())\n",
    "print(\"Labels uniques :\", labels_uniques)\n",
    "assert set(labels_uniques).issubset({0,4}), \"Les labels ne sont pas uniquement {0,4}.\"\n",
    "\n",
    "# Doublons (au cas où)\n",
    "nb_dupl_text = df[\"text\"].duplicated().sum()\n",
    "print(\"Doublons sur 'text' :\", nb_dupl_text)\n"
   ]
  },
  {
   "cell_type": "markdown",
   "id": "eb5e9dad",
   "metadata": {},
   "source": [
    "## __Création d'un dictionnaire de données__\n",
    "\n",
    "Un dictionnaire de données (ou data dictionary) est un document qui décrit chaque colonne du dataset.  \n",
    "Il répond à trois objectifs :\n",
    "- __Compréhension__ : savoir exactement ce que contient chaque champ (utile pour le créateur, mais aussi pour le lecteur).\n",
    "- __Communication__ : si quelqu’un d’autre reprend ton projet, il/elle peut comprendre la structure des données sans replonger dans le CSV.\n",
    "- __Traçabilité__ : noter les décisions (par ex. « colonne X supprimée car redondante »)."
   ]
  },
  {
   "cell_type": "code",
   "execution_count": 8,
   "id": "704fe480",
   "metadata": {},
   "outputs": [
    {
     "data": {
      "text/html": [
       "<div>\n",
       "<style scoped>\n",
       "    .dataframe tbody tr th:only-of-type {\n",
       "        vertical-align: middle;\n",
       "    }\n",
       "\n",
       "    .dataframe tbody tr th {\n",
       "        vertical-align: top;\n",
       "    }\n",
       "\n",
       "    .dataframe thead th {\n",
       "        text-align: right;\n",
       "    }\n",
       "</style>\n",
       "<table border=\"1\" class=\"dataframe\">\n",
       "  <thead>\n",
       "    <tr style=\"text-align: right;\">\n",
       "      <th></th>\n",
       "      <th>colonne</th>\n",
       "      <th>type</th>\n",
       "      <th>description</th>\n",
       "      <th>exemple</th>\n",
       "    </tr>\n",
       "  </thead>\n",
       "  <tbody>\n",
       "    <tr>\n",
       "      <th>0</th>\n",
       "      <td>label</td>\n",
       "      <td>int64</td>\n",
       "      <td>Sentiment binaire (0 = négatif, 4 = positif)</td>\n",
       "      <td>0</td>\n",
       "    </tr>\n",
       "    <tr>\n",
       "      <th>1</th>\n",
       "      <td>text</td>\n",
       "      <td>object</td>\n",
       "      <td>Contenu textuel du tweet (anglais)</td>\n",
       "      <td>@switchfoot http://twitpic.com/2y1zl - Awww, t...</td>\n",
       "    </tr>\n",
       "    <tr>\n",
       "      <th>2</th>\n",
       "      <td>len</td>\n",
       "      <td>int64</td>\n",
       "      <td>Longueur (nb de caractères) calculée</td>\n",
       "      <td>115</td>\n",
       "    </tr>\n",
       "  </tbody>\n",
       "</table>\n",
       "</div>"
      ],
      "text/plain": [
       "  colonne    type                                   description  \\\n",
       "0   label   int64  Sentiment binaire (0 = négatif, 4 = positif)   \n",
       "1    text  object            Contenu textuel du tweet (anglais)   \n",
       "2     len   int64          Longueur (nb de caractères) calculée   \n",
       "\n",
       "                                             exemple  \n",
       "0                                                  0  \n",
       "1  @switchfoot http://twitpic.com/2y1zl - Awww, t...  \n",
       "2                                                115  "
      ]
     },
     "metadata": {},
     "output_type": "display_data"
    },
    {
     "name": "stdout",
     "output_type": "stream",
     "text": [
      "Exporté : ../reports/data_dictionary.csv et ../reports/data_dictionary.md\n"
     ]
    }
   ],
   "source": [
    "# Dictionnaire\n",
    "dico = [\n",
    "    {\"colonne\": \"label\", \"type\": str(df[\"label\"].dtype), \"description\": \"Sentiment binaire (0 = négatif, 4 = positif)\", \"exemple\": df[\"label\"].iloc[0]},\n",
    "    {\"colonne\": \"text\",  \"type\": str(df[\"text\"].dtype),  \"description\": \"Contenu textuel du tweet (anglais)\",          \"exemple\": df[\"text\"].iloc[0][:80] + (\"...\" if len(df['text'].iloc[0])>80 else \"\")},\n",
    "]\n",
    "\n",
    "# Si 'len' pour l’EDA :\n",
    "if \"len\" in df.columns:\n",
    "    dico.append({\"colonne\": \"len\", \"type\": str(df[\"len\"].dtype), \"description\": \"Longueur (nb de caractères) calculée\", \"exemple\": df[\"len\"].iloc[0]})\n",
    "\n",
    "data_dict = pd.DataFrame(dico)\n",
    "display(data_dict)\n",
    "\n",
    "# Exports (garde une trace lisible côté repo)\n",
    "data_dict_path_csv = \"../reports/data_dictionary.csv\"\n",
    "data_dict_path_md  = \"../reports/data_dictionary.md\"\n",
    "\n",
    "data_dict.to_csv(data_dict_path_csv, index=False)\n",
    "\n",
    "with open(data_dict_path_md, \"w\", encoding=\"utf-8\") as f:\n",
    "    f.write(\"# Data Dictionary\\n\\n\")\n",
    "    for _, r in data_dict.iterrows():\n",
    "        f.write(f\"## {r['colonne']}\\n\")\n",
    "        f.write(f\"- Type : `{r['type']}`\\n\")\n",
    "        f.write(f\"- Description : {r['description']}\\n\")\n",
    "        f.write(f\"- Exemple : {r['exemple']}\\n\\n\")\n",
    "\n",
    "print(\"Exporté :\", data_dict_path_csv, \"et\", data_dict_path_md)\n"
   ]
  }
 ],
 "metadata": {
  "kernelspec": {
   "display_name": "sentiment-oc",
   "language": "python",
   "name": "python3"
  },
  "language_info": {
   "codemirror_mode": {
    "name": "ipython",
    "version": 3
   },
   "file_extension": ".py",
   "mimetype": "text/x-python",
   "name": "python",
   "nbconvert_exporter": "python",
   "pygments_lexer": "ipython3",
   "version": "3.11.13"
  }
 },
 "nbformat": 4,
 "nbformat_minor": 5
}
